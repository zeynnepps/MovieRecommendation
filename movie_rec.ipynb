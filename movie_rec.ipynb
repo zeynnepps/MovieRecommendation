{
 "cells": [
  {
   "cell_type": "code",
   "execution_count": null,
   "id": "59ab4b96",
   "metadata": {
    "vscode": {
     "languageId": "plaintext"
    }
   },
   "outputs": [],
   "source": []
  }
 ],
 "metadata": {
  "language_info": {
   "name": "python"
  }
 },
 "nbformat": 4,
 "nbformat_minor": 5
}
